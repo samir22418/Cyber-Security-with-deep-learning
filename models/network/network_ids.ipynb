{
 "cells": [
  {
   "cell_type": "code",
   "execution_count": 1,
   "metadata": {
    "ExecuteTime": {
     "end_time": "2024-12-17T23:17:16.754258200Z",
     "start_time": "2024-12-17T23:17:16.600171900Z"
    }
   },
   "outputs": [
    {
     "name": "stdout",
     "output_type": "stream",
     "text": [
      "Collecting tensorflow\n",
      "  Using cached tensorflow-2.18.0-cp312-cp312-win_amd64.whl.metadata (3.3 kB)\n",
      "Collecting tensorflow-intel==2.18.0 (from tensorflow)\n",
      "  Using cached tensorflow_intel-2.18.0-cp312-cp312-win_amd64.whl.metadata (4.9 kB)\n",
      "Collecting absl-py>=1.0.0 (from tensorflow-intel==2.18.0->tensorflow)\n",
      "  Using cached absl_py-2.1.0-py3-none-any.whl.metadata (2.3 kB)\n",
      "Collecting astunparse>=1.6.0 (from tensorflow-intel==2.18.0->tensorflow)\n",
      "  Using cached astunparse-1.6.3-py2.py3-none-any.whl.metadata (4.4 kB)\n",
      "Collecting flatbuffers>=24.3.25 (from tensorflow-intel==2.18.0->tensorflow)\n",
      "  Using cached flatbuffers-24.12.23-py2.py3-none-any.whl.metadata (876 bytes)\n",
      "Collecting gast!=0.5.0,!=0.5.1,!=0.5.2,>=0.2.1 (from tensorflow-intel==2.18.0->tensorflow)\n",
      "  Using cached gast-0.6.0-py3-none-any.whl.metadata (1.3 kB)\n",
      "Collecting google-pasta>=0.1.1 (from tensorflow-intel==2.18.0->tensorflow)\n",
      "  Using cached google_pasta-0.2.0-py3-none-any.whl.metadata (814 bytes)\n",
      "Collecting libclang>=13.0.0 (from tensorflow-intel==2.18.0->tensorflow)\n",
      "  Using cached libclang-18.1.1-py2.py3-none-win_amd64.whl.metadata (5.3 kB)\n",
      "Collecting opt-einsum>=2.3.2 (from tensorflow-intel==2.18.0->tensorflow)\n",
      "  Using cached opt_einsum-3.4.0-py3-none-any.whl.metadata (6.3 kB)\n",
      "Requirement already satisfied: packaging in c:\\users\\fayrouz\\appdata\\roaming\\python\\python312\\site-packages (from tensorflow-intel==2.18.0->tensorflow) (23.2)\n",
      "Requirement already satisfied: protobuf!=4.21.0,!=4.21.1,!=4.21.2,!=4.21.3,!=4.21.4,!=4.21.5,<6.0.0dev,>=3.20.3 in c:\\users\\fayrouz\\anaconda3\\lib\\site-packages (from tensorflow-intel==2.18.0->tensorflow) (3.20.3)\n",
      "Requirement already satisfied: requests<3,>=2.21.0 in c:\\users\\fayrouz\\anaconda3\\lib\\site-packages (from tensorflow-intel==2.18.0->tensorflow) (2.32.2)\n",
      "Requirement already satisfied: setuptools in c:\\users\\fayrouz\\anaconda3\\lib\\site-packages (from tensorflow-intel==2.18.0->tensorflow) (69.5.1)\n",
      "Requirement already satisfied: six>=1.12.0 in c:\\users\\fayrouz\\appdata\\roaming\\python\\python312\\site-packages (from tensorflow-intel==2.18.0->tensorflow) (1.16.0)\n",
      "Collecting termcolor>=1.1.0 (from tensorflow-intel==2.18.0->tensorflow)\n",
      "  Using cached termcolor-2.5.0-py3-none-any.whl.metadata (6.1 kB)\n",
      "Requirement already satisfied: typing-extensions>=3.6.6 in c:\\users\\fayrouz\\anaconda3\\lib\\site-packages (from tensorflow-intel==2.18.0->tensorflow) (4.11.0)\n",
      "Requirement already satisfied: wrapt>=1.11.0 in c:\\users\\fayrouz\\anaconda3\\lib\\site-packages (from tensorflow-intel==2.18.0->tensorflow) (1.14.1)\n",
      "Collecting grpcio<2.0,>=1.24.3 (from tensorflow-intel==2.18.0->tensorflow)\n",
      "  Using cached grpcio-1.68.1-cp312-cp312-win_amd64.whl.metadata (4.0 kB)\n",
      "Collecting tensorboard<2.19,>=2.18 (from tensorflow-intel==2.18.0->tensorflow)\n",
      "  Using cached tensorboard-2.18.0-py3-none-any.whl.metadata (1.6 kB)\n",
      "Collecting keras>=3.5.0 (from tensorflow-intel==2.18.0->tensorflow)\n",
      "  Using cached keras-3.7.0-py3-none-any.whl.metadata (5.8 kB)\n",
      "Requirement already satisfied: numpy<2.1.0,>=1.26.0 in c:\\users\\fayrouz\\anaconda3\\lib\\site-packages (from tensorflow-intel==2.18.0->tensorflow) (1.26.4)\n",
      "Requirement already satisfied: h5py>=3.11.0 in c:\\users\\fayrouz\\anaconda3\\lib\\site-packages (from tensorflow-intel==2.18.0->tensorflow) (3.11.0)\n",
      "Collecting ml-dtypes<0.5.0,>=0.4.0 (from tensorflow-intel==2.18.0->tensorflow)\n",
      "  Using cached ml_dtypes-0.4.1-cp312-cp312-win_amd64.whl.metadata (20 kB)\n",
      "Requirement already satisfied: wheel<1.0,>=0.23.0 in c:\\users\\fayrouz\\anaconda3\\lib\\site-packages (from astunparse>=1.6.0->tensorflow-intel==2.18.0->tensorflow) (0.43.0)\n",
      "Requirement already satisfied: rich in c:\\users\\fayrouz\\anaconda3\\lib\\site-packages (from keras>=3.5.0->tensorflow-intel==2.18.0->tensorflow) (13.3.5)\n",
      "Collecting namex (from keras>=3.5.0->tensorflow-intel==2.18.0->tensorflow)\n",
      "  Using cached namex-0.0.8-py3-none-any.whl.metadata (246 bytes)\n",
      "Collecting optree (from keras>=3.5.0->tensorflow-intel==2.18.0->tensorflow)\n",
      "  Using cached optree-0.13.1-cp312-cp312-win_amd64.whl.metadata (48 kB)\n",
      "Requirement already satisfied: charset-normalizer<4,>=2 in c:\\users\\fayrouz\\anaconda3\\lib\\site-packages (from requests<3,>=2.21.0->tensorflow-intel==2.18.0->tensorflow) (2.0.4)\n",
      "Requirement already satisfied: idna<4,>=2.5 in c:\\users\\fayrouz\\anaconda3\\lib\\site-packages (from requests<3,>=2.21.0->tensorflow-intel==2.18.0->tensorflow) (3.7)\n",
      "Requirement already satisfied: urllib3<3,>=1.21.1 in c:\\users\\fayrouz\\anaconda3\\lib\\site-packages (from requests<3,>=2.21.0->tensorflow-intel==2.18.0->tensorflow) (2.2.2)\n",
      "Requirement already satisfied: certifi>=2017.4.17 in c:\\users\\fayrouz\\anaconda3\\lib\\site-packages (from requests<3,>=2.21.0->tensorflow-intel==2.18.0->tensorflow) (2024.8.30)\n",
      "Requirement already satisfied: markdown>=2.6.8 in c:\\users\\fayrouz\\anaconda3\\lib\\site-packages (from tensorboard<2.19,>=2.18->tensorflow-intel==2.18.0->tensorflow) (3.4.1)\n",
      "Collecting tensorboard-data-server<0.8.0,>=0.7.0 (from tensorboard<2.19,>=2.18->tensorflow-intel==2.18.0->tensorflow)\n",
      "  Using cached tensorboard_data_server-0.7.2-py3-none-any.whl.metadata (1.1 kB)\n",
      "Requirement already satisfied: werkzeug>=1.0.1 in c:\\users\\fayrouz\\anaconda3\\lib\\site-packages (from tensorboard<2.19,>=2.18->tensorflow-intel==2.18.0->tensorflow) (3.0.3)\n",
      "Requirement already satisfied: MarkupSafe>=2.1.1 in c:\\users\\fayrouz\\anaconda3\\lib\\site-packages (from werkzeug>=1.0.1->tensorboard<2.19,>=2.18->tensorflow-intel==2.18.0->tensorflow) (2.1.3)\n",
      "Requirement already satisfied: markdown-it-py<3.0.0,>=2.2.0 in c:\\users\\fayrouz\\anaconda3\\lib\\site-packages (from rich->keras>=3.5.0->tensorflow-intel==2.18.0->tensorflow) (2.2.0)\n",
      "Requirement already satisfied: pygments<3.0.0,>=2.13.0 in c:\\users\\fayrouz\\appdata\\roaming\\python\\python312\\site-packages (from rich->keras>=3.5.0->tensorflow-intel==2.18.0->tensorflow) (2.17.2)\n",
      "Requirement already satisfied: mdurl~=0.1 in c:\\users\\fayrouz\\anaconda3\\lib\\site-packages (from markdown-it-py<3.0.0,>=2.2.0->rich->keras>=3.5.0->tensorflow-intel==2.18.0->tensorflow) (0.1.0)\n",
      "Using cached tensorflow-2.18.0-cp312-cp312-win_amd64.whl (7.5 kB)\n",
      "Using cached tensorflow_intel-2.18.0-cp312-cp312-win_amd64.whl (390.3 MB)\n",
      "Using cached absl_py-2.1.0-py3-none-any.whl (133 kB)\n",
      "Using cached astunparse-1.6.3-py2.py3-none-any.whl (12 kB)\n",
      "Using cached flatbuffers-24.12.23-py2.py3-none-any.whl (30 kB)\n",
      "Using cached gast-0.6.0-py3-none-any.whl (21 kB)\n",
      "Using cached google_pasta-0.2.0-py3-none-any.whl (57 kB)\n",
      "Using cached grpcio-1.68.1-cp312-cp312-win_amd64.whl (4.4 MB)\n",
      "Using cached keras-3.7.0-py3-none-any.whl (1.2 MB)\n",
      "Using cached libclang-18.1.1-py2.py3-none-win_amd64.whl (26.4 MB)\n",
      "Using cached ml_dtypes-0.4.1-cp312-cp312-win_amd64.whl (127 kB)\n",
      "Using cached opt_einsum-3.4.0-py3-none-any.whl (71 kB)\n",
      "Using cached tensorboard-2.18.0-py3-none-any.whl (5.5 MB)\n",
      "Using cached termcolor-2.5.0-py3-none-any.whl (7.8 kB)\n",
      "Using cached tensorboard_data_server-0.7.2-py3-none-any.whl (2.4 kB)\n",
      "Using cached namex-0.0.8-py3-none-any.whl (5.8 kB)\n",
      "Using cached optree-0.13.1-cp312-cp312-win_amd64.whl (292 kB)\n",
      "Installing collected packages: namex, libclang, flatbuffers, termcolor, tensorboard-data-server, optree, opt-einsum, ml-dtypes, grpcio, google-pasta, gast, astunparse, absl-py, tensorboard, keras, tensorflow-intel, tensorflow\n",
      "Successfully installed absl-py-2.1.0 astunparse-1.6.3 flatbuffers-24.12.23 gast-0.6.0 google-pasta-0.2.0 grpcio-1.68.1 keras-3.7.0 libclang-18.1.1 ml-dtypes-0.4.1 namex-0.0.8 opt-einsum-3.4.0 optree-0.13.1 tensorboard-2.18.0 tensorboard-data-server-0.7.2 tensorflow-2.18.0 tensorflow-intel-2.18.0 termcolor-2.5.0\n"
     ]
    }
   ],
   "source": [
    "import numpy as np       # Numerical operations (arrays, matrices)\n",
    "import pandas as pd       # Data manipulation (DataFrames)\n",
    "!pip install tensorflow\n",
    "import tensorflow          # Deep learning library\n",
    "import seaborn as sns        # Data visualization library\n",
    "sns.set_style(\"darkgrid\")     # Set Seaborn plot style to darkgrid\n",
    "import matplotlib.pyplot as plt # Plotting library for creating plots\n",
    "from sklearn.model_selection import train_test_split  # Split datasets for training and testing\n",
    "\n",
    "import os                                              # Operating system interactions \n",
    "os.environ[\"CUDA_VISIBLE_DEVICES\"] = \"-1\"               # Disable GPU usage by setting CUDA_VISIBLE_DEVICES to -1\n",
    "\n",
    "from tensorflow.keras.models import Sequential           # Keras model for building neural networks\n",
    "from tensorflow.keras.layers import Dense, LSTM, Dropout  # Keras layers for Dense (fully connected), LSTM, and Dropout layers\n",
    "\n",
    "import plotly.express as px                               # Interactive plotting library\n",
    "\n",
    "import torch                                              # PyTorch deep learning library\n",
    "import torch.nn as nn \n",
    "import torch.optim as optim                               # Optimization algorithms for PyTorch (like Adam, SGD)\n",
    "\n",
    "from sklearn.metrics import accuracy_score, precision_score, recall_score, f1_score, confusion_matrix  # Classification evaluation metrics\n",
    "from torch.utils.data import DataLoader, TensorDataset      # PyTorch utilities for data loading and batching\n",
    "from collections import Counter                              # For counting occurrences of items in an iterable\n",
    "from sklearn.preprocessing import MinMaxScaler                  # Scaler for normalizing data (min-max scaling)\n",
    "from sklearn.preprocessing import LabelEncoder                    # Encoder for converting categorical labels to numeric values\n",
    "from sklearn.metrics import accuracy_score, classification_report \n",
    "\n",
    "from tqdm import tqdm                                                # Library for showing progress bars in loops\n",
    "\n",
    "\n"
   ]
  },
  {
   "cell_type": "markdown",
   "metadata": {},
   "source": [
    "**lets know some information about our data !!!**\n",
    "\n",
    "\n"
   ]
  },
  {
   "cell_type": "code",
   "execution_count": 3,
   "metadata": {
    "ExecuteTime": {
     "end_time": "2024-12-17T23:01:25.552596400Z",
     "start_time": "2024-12-17T23:01:24.203332200Z"
    }
   },
   "outputs": [
    {
     "data": {
      "text/html": [
       "<div>\n",
       "<style scoped>\n",
       "    .dataframe tbody tr th:only-of-type {\n",
       "        vertical-align: middle;\n",
       "    }\n",
       "\n",
       "    .dataframe tbody tr th {\n",
       "        vertical-align: top;\n",
       "    }\n",
       "\n",
       "    .dataframe thead th {\n",
       "        text-align: right;\n",
       "    }\n",
       "</style>\n",
       "<table border=\"1\" class=\"dataframe\">\n",
       "  <thead>\n",
       "    <tr style=\"text-align: right;\">\n",
       "      <th></th>\n",
       "      <th>Flow Duration</th>\n",
       "      <th>Total Fwd Packets</th>\n",
       "      <th>Fwd Packet Length Mean</th>\n",
       "      <th>Bwd Packet Length Mean</th>\n",
       "      <th>Flow IAT Mean</th>\n",
       "      <th>SYN Flag Count</th>\n",
       "      <th>FIN Flag Count</th>\n",
       "      <th>Active Mean</th>\n",
       "      <th>Idle Mean</th>\n",
       "      <th>Label</th>\n",
       "    </tr>\n",
       "  </thead>\n",
       "  <tbody>\n",
       "    <tr>\n",
       "      <th>0</th>\n",
       "      <td>32046067</td>\n",
       "      <td>2</td>\n",
       "      <td>37.000000</td>\n",
       "      <td>0.000000</td>\n",
       "      <td>3.200000e+07</td>\n",
       "      <td>1</td>\n",
       "      <td>0</td>\n",
       "      <td>0.0</td>\n",
       "      <td>0.0</td>\n",
       "      <td>BENIGN</td>\n",
       "    </tr>\n",
       "    <tr>\n",
       "      <th>1</th>\n",
       "      <td>66073</td>\n",
       "      <td>4</td>\n",
       "      <td>44.000000</td>\n",
       "      <td>107.000000</td>\n",
       "      <td>9.439000e+03</td>\n",
       "      <td>0</td>\n",
       "      <td>0</td>\n",
       "      <td>0.0</td>\n",
       "      <td>0.0</td>\n",
       "      <td>BENIGN</td>\n",
       "    </tr>\n",
       "    <tr>\n",
       "      <th>2</th>\n",
       "      <td>60025</td>\n",
       "      <td>1</td>\n",
       "      <td>56.000000</td>\n",
       "      <td>112.000000</td>\n",
       "      <td>6.002500e+04</td>\n",
       "      <td>0</td>\n",
       "      <td>0</td>\n",
       "      <td>0.0</td>\n",
       "      <td>0.0</td>\n",
       "      <td>BENIGN</td>\n",
       "    </tr>\n",
       "    <tr>\n",
       "      <th>3</th>\n",
       "      <td>47619</td>\n",
       "      <td>1</td>\n",
       "      <td>44.000000</td>\n",
       "      <td>213.000000</td>\n",
       "      <td>4.761900e+04</td>\n",
       "      <td>0</td>\n",
       "      <td>0</td>\n",
       "      <td>0.0</td>\n",
       "      <td>0.0</td>\n",
       "      <td>BENIGN</td>\n",
       "    </tr>\n",
       "    <tr>\n",
       "      <th>4</th>\n",
       "      <td>99329635</td>\n",
       "      <td>6</td>\n",
       "      <td>53.333333</td>\n",
       "      <td>1656.428571</td>\n",
       "      <td>8.277470e+06</td>\n",
       "      <td>0</td>\n",
       "      <td>1</td>\n",
       "      <td>13973.0</td>\n",
       "      <td>99300000.0</td>\n",
       "      <td>DoS Hulk</td>\n",
       "    </tr>\n",
       "  </tbody>\n",
       "</table>\n",
       "</div>"
      ],
      "text/plain": [
       "   Flow Duration  Total Fwd Packets  Fwd Packet Length Mean  \\\n",
       "0       32046067                  2               37.000000   \n",
       "1          66073                  4               44.000000   \n",
       "2          60025                  1               56.000000   \n",
       "3          47619                  1               44.000000   \n",
       "4       99329635                  6               53.333333   \n",
       "\n",
       "   Bwd Packet Length Mean  Flow IAT Mean  SYN Flag Count  FIN Flag Count  \\\n",
       "0                0.000000   3.200000e+07               1               0   \n",
       "1              107.000000   9.439000e+03               0               0   \n",
       "2              112.000000   6.002500e+04               0               0   \n",
       "3              213.000000   4.761900e+04               0               0   \n",
       "4             1656.428571   8.277470e+06               0               1   \n",
       "\n",
       "   Active Mean   Idle Mean     Label  \n",
       "0          0.0         0.0    BENIGN  \n",
       "1          0.0         0.0    BENIGN  \n",
       "2          0.0         0.0    BENIGN  \n",
       "3          0.0         0.0    BENIGN  \n",
       "4      13973.0  99300000.0  DoS Hulk  "
      ]
     },
     "execution_count": 3,
     "metadata": {},
     "output_type": "execute_result"
    }
   ],
   "source": [
    "\"\"\"\n",
    "This part reads a CSV file into a pandas DataFrame and displays the first few rows.\n",
    "- pd.read_csv('network.csv'): Reads the our network.csv into  data DF\n",
    "- data.head(): Displays the first 5 rows of the DataFrame by default, allowing for a quick preview of the data structure and content.\n",
    "\"\"\"\n",
    "data = pd.read_csv('network.csv')\n",
    "data.head()\n"
   ]
  },
  {
   "cell_type": "code",
   "execution_count": 4,
   "metadata": {
    "ExecuteTime": {
     "end_time": "2024-12-17T23:01:25.560564300Z",
     "start_time": "2024-12-17T23:01:25.553596300Z"
    }
   },
   "outputs": [
    {
     "data": {
      "text/plain": [
       "(1500000, 10)"
      ]
     },
     "execution_count": 4,
     "metadata": {},
     "output_type": "execute_result"
    }
   ],
   "source": [
    "\"\"\"\n",
    "- data.shape: Returns a tuple representing the dimensions of the data DF.\n",
    "  The first element is the number of rows, and the second element is the number of columns.\n",
    "\"\"\"\n",
    "data.shape"
   ]
  },
  {
   "cell_type": "code",
   "execution_count": 5,
   "metadata": {
    "ExecuteTime": {
     "end_time": "2024-12-17T23:01:25.689969500Z",
     "start_time": "2024-12-17T23:01:25.562222Z"
    }
   },
   "outputs": [
    {
     "name": "stdout",
     "output_type": "stream",
     "text": [
      "<class 'pandas.core.frame.DataFrame'>\n",
      "RangeIndex: 1500000 entries, 0 to 1499999\n",
      "Data columns (total 10 columns):\n",
      " #   Column                  Non-Null Count    Dtype  \n",
      "---  ------                  --------------    -----  \n",
      " 0   Flow Duration           1500000 non-null  int64  \n",
      " 1   Total Fwd Packets       1500000 non-null  int64  \n",
      " 2   Fwd Packet Length Mean  1500000 non-null  float64\n",
      " 3   Bwd Packet Length Mean  1500000 non-null  float64\n",
      " 4   Flow IAT Mean           1500000 non-null  float64\n",
      " 5   SYN Flag Count          1500000 non-null  int64  \n",
      " 6   FIN Flag Count          1500000 non-null  int64  \n",
      " 7   Active Mean             1500000 non-null  float64\n",
      " 8   Idle Mean               1500000 non-null  float64\n",
      " 9   Label                   1500000 non-null  object \n",
      "dtypes: float64(5), int64(4), object(1)\n",
      "memory usage: 114.4+ MB\n"
     ]
    }
   ],
   "source": [
    "\"\"\"\n",
    "- data.info(): Provides a summary of the data DF.\n",
    "  Includes details about:\n",
    "    - The number of non-null values in each column.\n",
    "    - The data type of each column.\n",
    "    - The overall memory usage of the DataFrame.\n",
    "\"\"\"\n",
    "data.info()"
   ]
  },
  {
   "cell_type": "code",
   "execution_count": 6,
   "metadata": {
    "ExecuteTime": {
     "end_time": "2024-12-17T23:01:40.386082Z",
     "start_time": "2024-12-17T23:01:25.683203800Z"
    }
   },
   "outputs": [
    {
     "data": {
      "text/plain": [
       "<Axes: >"
      ]
     },
     "execution_count": 6,
     "metadata": {},
     "output_type": "execute_result"
    },
    {
     "data": {
      "image/png": "[encoded data removed]",
      "text/plain": [
       "<Figure size 640x480 with 2 Axes>"
      ]
     },
     "metadata": {},
     "output_type": "display_data"
    }
   ],
   "source": [
    "\"\"\"\n",
    "- sns.heatmap(data.isnull()): Visualizes NaN values in the data  DF as a heatmap using the seaborn library.\n",
    "  - Rows and columns are represented on the axes.\n",
    "  - Cells with missing values are highlighted, making it easy to identify patterns of missing data.\n",
    "\"\"\"\n",
    "sns.heatmap(data.isnull())"
   ]
  },
  {
   "cell_type": "code",
   "execution_count": 7,
   "metadata": {
    "ExecuteTime": {
     "end_time": "2024-12-17T23:01:41.428311200Z",
     "start_time": "2024-12-17T23:01:40.389360100Z"
    }
   },
   "outputs": [
    {
     "data": {
      "text/plain": [
       "510412"
      ]
     },
     "execution_count": 7,
     "metadata": {},
     "output_type": "execute_result"
    }
   ],
   "source": [
    "\"\"\"\n",
    "- data.duplicated().sum(): Checks for duplicate rows in the data DF and returns the total count of duplicate rows.\n",
    "  - A duplicate row is one that has the same values across all columns as another row in the DataFrame.\n",
    "\"\"\"\n",
    "data.duplicated().sum()"
   ]
  },
  {
   "cell_type": "markdown",
   "metadata": {},
   "source": [
    "**NOW , Lets start preprocessing our data !!!**"
   ]
  },
  {
   "cell_type": "code",
   "execution_count": 9,
   "metadata": {
    "ExecuteTime": {
     "end_time": "2024-12-17T23:01:42.605061900Z",
     "start_time": "2024-12-17T23:01:41.430365700Z"
    }
   },
   "outputs": [
    {
     "data": {
      "text/plain": [
       "(989588, 10)"
      ]
     },
     "execution_count": 9,
     "metadata": {},
     "output_type": "execute_result"
    }
   ],
   "source": [
    "\"\"\"\n",
    "This part removes duplicate rows from the DataFrame data and retrieves the updated dimensions.\n",
    "\n",
    "- data.drop_duplicates(inplace=True): Removes duplicate rows from the DataFrame data in place (( original DataFrame is updated)).\n",
    "- data.shape: Returns the dimensions of the updated DataFrame as (number of rows, number of columns).\n",
    "\n",
    "Note: This is useful for ensuring the data is clean and free of duplicate rows, which could affect analysis or modeling.\n",
    "\"\"\"\n",
    "data.drop_duplicates(inplace = True)\n",
    "data.shape"
   ]
  },
  {
   "cell_type": "code",
   "execution_count": 10,
   "metadata": {
    "ExecuteTime": {
     "end_time": "2024-12-17T23:01:42.692068500Z",
     "start_time": "2024-12-17T23:01:42.610448800Z"
    }
   },
   "outputs": [
    {
     "name": "stdout",
     "output_type": "stream",
     "text": [
      "Series([], dtype: int64)\n"
     ]
    }
   ],
   "source": [
    "\"\"\"\n",
    "This script identifies numeric columns in the DataFrame data, checks for infinite values in those columns,\n",
    "      and prints the count of infinite values per column if any exist.\n",
    "\n",
    "- data.select_dtypes(include=np.number).columns: Selects the column names in the DataFrame data that contain numeric data types (integers and floats).\n",
    "- np.isinf(data[numeric_cols]).sum(): Identifies infinite values (np.inf or -np.inf) in the selected numeric columns and sums them up for each column,\n",
    "                                 returning the count of infinite values per column.\n",
    "- inf_count[inf_count > 0]: Filters the resulting count to show only the columns with more than 0 infinite values.\n",
    "- print(): Outputs the names of numeric columns with infinite values and their respective counts.\n",
    "\n",
    "Note: This part is useful for detecting and analyzing the presence of infinite values in numeric columns, which canaffect data analysis and modeling.\n",
    "\"\"\"\n",
    "numeric_cols = data.select_dtypes(include = np.number).columns\n",
    "inf_count = np.isinf(data[numeric_cols]).sum()\n",
    "print(inf_count[inf_count > 0])"
   ]
  },
  {
   "cell_type": "code",
   "execution_count": 11,
   "metadata": {
    "ExecuteTime": {
     "end_time": "2024-12-17T23:01:42.792990700Z",
     "start_time": "2024-12-17T23:01:42.694658700Z"
    }
   },
   "outputs": [
    {
     "name": "stdout",
     "output_type": "stream",
     "text": [
      "Class distribution before handling imbalance:\n",
      "Class BENIGN: 814922 samples\n",
      "Class DoS Hulk: 89086 samples\n",
      "Class FTP-Patator: 2297 samples\n",
      "Class PortScan: 1088 samples\n",
      "Class DDoS: 67693 samples\n",
      "Class DoS Slowhttptest: 2765 samples\n",
      "Class DoS slowloris: 2691 samples\n",
      "Class Web Attack � XSS: 353 samples\n",
      "Class Bot: 742 samples\n",
      "Class DoS GoldenEye: 5465 samples\n",
      "Class SSH-Patator: 1686 samples\n",
      "Class Web Attack � Brute Force: 766 samples\n",
      "Class Infiltration: 19 samples\n",
      "Class Web Attack � Sql Injection: 11 samples\n",
      "Class Heartbleed: 4 samples\n"
     ]
    }
   ],
   "source": [
    "\"\"\"\n",
    "This script calculates and displays the class distribution for a target column in the DataFrame data.\n",
    "\n",
    "- Counter(data[target]): Counts the occurrences of each unique class in the target column using Python's Counter \n",
    "                             from the collections module.\n",
    "-  The for loop: Iterates through the unique class labels and their counts  and Prints each class labeland its\n",
    "                corresponding sample count in a formatted string.\n",
    "\n",
    "Note: This part is useful for identifying class imbalances in classification tasks, which may require preprocessing techniques\n",
    "        like oversampling or undersampling.\n",
    "\"\"\"\n",
    "target = \"Label\"    #Specifies the target column in the DataFrame whose class distribution will be analyzed.\n",
    "class_distribution = Counter(data[target])\n",
    "\n",
    "print(\"Class distribution before handling imbalance:\")\n",
    "for label, count in class_distribution.items():\n",
    "    print(f\"Class {label}: {count} samples\")\n"
   ]
  },
  {
   "cell_type": "code",
   "execution_count": 12,
   "metadata": {
    "ExecuteTime": {
     "end_time": "2024-12-17T23:01:43.024506600Z",
     "start_time": "2024-12-17T23:01:42.795798800Z"
    }
   },
   "outputs": [],
   "source": [
    "\"\"\"\n",
    "This script applies Min-Max scaling to numeric columns in the DataFrame data.\n",
    "\n",
    "-  MinMaxScaler(): Initializes the MinMaxScaler, which scales the numeric values of the data to a specified range (default is [0, 1])\n",
    "                              and its equation is x'=(x-min(x))/(max(x)-min(x)).\n",
    " - fit_transform(): Fits the scaler to the data and then transforms it, scaling all numeric values to the specified range.\n",
    "\n",
    "### Purpose:\n",
    "This process normalizes numeric data to bring all features to a uniform scale, which can improve the performance of\n",
    "  machine learning algorithms by reducing bias caused by varying feature magnitudes.\n",
    "\"\"\"\n",
    "scaler = MinMaxScaler()\n",
    "#Identifies all numeric columns in the DataFrame data by selecting columns with numeric data types (integers and floats).\n",
    "num_columns = data.select_dtypes(include=np.number).columns\n",
    "# Apply MinMaxScaler\n",
    "data[num_columns] = scaler.fit_transform(data[num_columns])"
   ]
  },
  {
   "cell_type": "code",
   "execution_count": 13,
   "metadata": {
    "ExecuteTime": {
     "end_time": "2024-12-17T23:01:43.039698200Z",
     "start_time": "2024-12-17T23:01:43.024506600Z"
    }
   },
   "outputs": [
    {
     "data": {
      "text/html": [
       "<div>\n",
       "<style scoped>\n",
       "    .dataframe tbody tr th:only-of-type {\n",
       "        vertical-align: middle;\n",
       "    }\n",
       "\n",
       "    .dataframe tbody tr th {\n",
       "        vertical-align: top;\n",
       "    }\n",
       "\n",
       "    .dataframe thead th {\n",
       "        text-align: right;\n",
       "    }\n",
       "</style>\n",
       "<table border=\"1\" class=\"dataframe\">\n",
       "  <thead>\n",
       "    <tr style=\"text-align: right;\">\n",
       "      <th></th>\n",
       "      <th>Flow Duration</th>\n",
       "      <th>Total Fwd Packets</th>\n",
       "      <th>Fwd Packet Length Mean</th>\n",
       "      <th>Bwd Packet Length Mean</th>\n",
       "      <th>Flow IAT Mean</th>\n",
       "      <th>SYN Flag Count</th>\n",
       "      <th>FIN Flag Count</th>\n",
       "      <th>Active Mean</th>\n",
       "      <th>Idle Mean</th>\n",
       "      <th>Label</th>\n",
       "    </tr>\n",
       "  </thead>\n",
       "  <tbody>\n",
       "    <tr>\n",
       "      <th>0</th>\n",
       "      <td>0.267051</td>\n",
       "      <td>0.000005</td>\n",
       "      <td>0.006230</td>\n",
       "      <td>0.000000</td>\n",
       "      <td>0.266667</td>\n",
       "      <td>1.0</td>\n",
       "      <td>0.0</td>\n",
       "      <td>0.000000</td>\n",
       "      <td>0.0000</td>\n",
       "      <td>BENIGN</td>\n",
       "    </tr>\n",
       "    <tr>\n",
       "      <th>1</th>\n",
       "      <td>0.000551</td>\n",
       "      <td>0.000014</td>\n",
       "      <td>0.007408</td>\n",
       "      <td>0.018447</td>\n",
       "      <td>0.000079</td>\n",
       "      <td>0.0</td>\n",
       "      <td>0.0</td>\n",
       "      <td>0.000000</td>\n",
       "      <td>0.0000</td>\n",
       "      <td>BENIGN</td>\n",
       "    </tr>\n",
       "    <tr>\n",
       "      <th>2</th>\n",
       "      <td>0.000500</td>\n",
       "      <td>0.000000</td>\n",
       "      <td>0.009429</td>\n",
       "      <td>0.019309</td>\n",
       "      <td>0.000500</td>\n",
       "      <td>0.0</td>\n",
       "      <td>0.0</td>\n",
       "      <td>0.000000</td>\n",
       "      <td>0.0000</td>\n",
       "      <td>BENIGN</td>\n",
       "    </tr>\n",
       "    <tr>\n",
       "      <th>3</th>\n",
       "      <td>0.000397</td>\n",
       "      <td>0.000000</td>\n",
       "      <td>0.007408</td>\n",
       "      <td>0.036721</td>\n",
       "      <td>0.000397</td>\n",
       "      <td>0.0</td>\n",
       "      <td>0.0</td>\n",
       "      <td>0.000000</td>\n",
       "      <td>0.0000</td>\n",
       "      <td>BENIGN</td>\n",
       "    </tr>\n",
       "    <tr>\n",
       "      <th>4</th>\n",
       "      <td>0.827747</td>\n",
       "      <td>0.000023</td>\n",
       "      <td>0.008980</td>\n",
       "      <td>0.285567</td>\n",
       "      <td>0.068979</td>\n",
       "      <td>0.0</td>\n",
       "      <td>1.0</td>\n",
       "      <td>0.000127</td>\n",
       "      <td>0.8275</td>\n",
       "      <td>DoS Hulk</td>\n",
       "    </tr>\n",
       "    <tr>\n",
       "      <th>...</th>\n",
       "      <td>...</td>\n",
       "      <td>...</td>\n",
       "      <td>...</td>\n",
       "      <td>...</td>\n",
       "      <td>...</td>\n",
       "      <td>...</td>\n",
       "      <td>...</td>\n",
       "      <td>...</td>\n",
       "      <td>...</td>\n",
       "      <td>...</td>\n",
       "    </tr>\n",
       "    <tr>\n",
       "      <th>1499991</th>\n",
       "      <td>0.000199</td>\n",
       "      <td>0.000005</td>\n",
       "      <td>0.006566</td>\n",
       "      <td>0.009482</td>\n",
       "      <td>0.000067</td>\n",
       "      <td>0.0</td>\n",
       "      <td>0.0</td>\n",
       "      <td>0.000000</td>\n",
       "      <td>0.0000</td>\n",
       "      <td>BENIGN</td>\n",
       "    </tr>\n",
       "    <tr>\n",
       "      <th>1499993</th>\n",
       "      <td>0.003346</td>\n",
       "      <td>0.000009</td>\n",
       "      <td>0.031990</td>\n",
       "      <td>0.000690</td>\n",
       "      <td>0.000669</td>\n",
       "      <td>0.0</td>\n",
       "      <td>0.0</td>\n",
       "      <td>0.000000</td>\n",
       "      <td>0.0000</td>\n",
       "      <td>BENIGN</td>\n",
       "    </tr>\n",
       "    <tr>\n",
       "      <th>1499994</th>\n",
       "      <td>0.006264</td>\n",
       "      <td>0.000037</td>\n",
       "      <td>0.013152</td>\n",
       "      <td>0.061907</td>\n",
       "      <td>0.000330</td>\n",
       "      <td>0.0</td>\n",
       "      <td>0.0</td>\n",
       "      <td>0.000000</td>\n",
       "      <td>0.0000</td>\n",
       "      <td>BENIGN</td>\n",
       "    </tr>\n",
       "    <tr>\n",
       "      <th>1499998</th>\n",
       "      <td>0.000259</td>\n",
       "      <td>0.000000</td>\n",
       "      <td>0.008924</td>\n",
       "      <td>0.024308</td>\n",
       "      <td>0.000259</td>\n",
       "      <td>0.0</td>\n",
       "      <td>0.0</td>\n",
       "      <td>0.000000</td>\n",
       "      <td>0.0000</td>\n",
       "      <td>BENIGN</td>\n",
       "    </tr>\n",
       "    <tr>\n",
       "      <th>1499999</th>\n",
       "      <td>0.000259</td>\n",
       "      <td>0.000005</td>\n",
       "      <td>0.006398</td>\n",
       "      <td>0.017757</td>\n",
       "      <td>0.000086</td>\n",
       "      <td>0.0</td>\n",
       "      <td>0.0</td>\n",
       "      <td>0.000000</td>\n",
       "      <td>0.0000</td>\n",
       "      <td>BENIGN</td>\n",
       "    </tr>\n",
       "  </tbody>\n",
       "</table>\n",
       "<p>989588 rows × 10 columns</p>\n",
       "</div>"
      ],
      "text/plain": [
       "         Flow Duration  Total Fwd Packets  Fwd Packet Length Mean  \\\n",
       "0             0.267051           0.000005                0.006230   \n",
       "1             0.000551           0.000014                0.007408   \n",
       "2             0.000500           0.000000                0.009429   \n",
       "3             0.000397           0.000000                0.007408   \n",
       "4             0.827747           0.000023                0.008980   \n",
       "...                ...                ...                     ...   \n",
       "1499991       0.000199           0.000005                0.006566   \n",
       "1499993       0.003346           0.000009                0.031990   \n",
       "1499994       0.006264           0.000037                0.013152   \n",
       "1499998       0.000259           0.000000                0.008924   \n",
       "1499999       0.000259           0.000005                0.006398   \n",
       "\n",
       "         Bwd Packet Length Mean  Flow IAT Mean  SYN Flag Count  \\\n",
       "0                      0.000000       0.266667             1.0   \n",
       "1                      0.018447       0.000079             0.0   \n",
       "2                      0.019309       0.000500             0.0   \n",
       "3                      0.036721       0.000397             0.0   \n",
       "4                      0.285567       0.068979             0.0   \n",
       "...                         ...            ...             ...   \n",
       "1499991                0.009482       0.000067             0.0   \n",
       "1499993                0.000690       0.000669             0.0   \n",
       "1499994                0.061907       0.000330             0.0   \n",
       "1499998                0.024308       0.000259             0.0   \n",
       "1499999                0.017757       0.000086             0.0   \n",
       "\n",
       "         FIN Flag Count  Active Mean  Idle Mean     Label  \n",
       "0                   0.0     0.000000     0.0000    BENIGN  \n",
       "1                   0.0     0.000000     0.0000    BENIGN  \n",
       "2                   0.0     0.000000     0.0000    BENIGN  \n",
       "3                   0.0     0.000000     0.0000    BENIGN  \n",
       "4                   1.0     0.000127     0.8275  DoS Hulk  \n",
       "...                 ...          ...        ...       ...  \n",
       "1499991             0.0     0.000000     0.0000    BENIGN  \n",
       "1499993             0.0     0.000000     0.0000    BENIGN  \n",
       "1499994             0.0     0.000000     0.0000    BENIGN  \n",
       "1499998             0.0     0.000000     0.0000    BENIGN  \n",
       "1499999             0.0     0.000000     0.0000    BENIGN  \n",
       "\n",
       "[989588 rows x 10 columns]"
      ]
     },
     "execution_count": 13,
     "metadata": {},
     "output_type": "execute_result"
    }
   ],
   "source": [
    "data    ### this shows data after normalizing the numerical coloumns with the min max scaler to range[0,1] "
   ]
  },
  {
   "cell_type": "code",
   "execution_count": 14,
   "metadata": {
    "ExecuteTime": {
     "end_time": "2024-12-17T23:01:43.212543Z",
     "start_time": "2024-12-17T23:01:43.040704300Z"
    }
   },
   "outputs": [],
   "source": [
    "\"\"\"\n",
    "Label encoding is applied to the 'Label' column in the data DataFrame.\n",
    "- LabelEncoder(): Initializes a LabelEncoder object from sklearn.preprocessing to convert categorical labels into numeric values.\n",
    "- fit_transform() :first fits the encoder to the unique values in the Label column, and then transforms those values into numerical codes. Each unique\n",
    "                 category is assigned a number starting from 0.\n",
    "### Purpose:\n",
    "The purpose of this transformation is to convert categorical labels into a numeric format, which is required for our model\n",
    "\"\"\"\n",
    "label_encoder = LabelEncoder()\n",
    "data['Label'] = label_encoder.fit_transform(data['Label'])\n"
   ]
  },
  {
   "cell_type": "code",
   "execution_count": 15,
   "metadata": {
    "ExecuteTime": {
     "end_time": "2024-12-17T23:01:43.229251300Z",
     "start_time": "2024-12-17T23:01:43.224182200Z"
    }
   },
   "outputs": [
    {
     "data": {
      "text/html": [
       "<div>\n",
       "<style scoped>\n",
       "    .dataframe tbody tr th:only-of-type {\n",
       "        vertical-align: middle;\n",
       "    }\n",
       "\n",
       "    .dataframe tbody tr th {\n",
       "        vertical-align: top;\n",
       "    }\n",
       "\n",
       "    .dataframe thead th {\n",
       "        text-align: right;\n",
       "    }\n",
       "</style>\n",
       "<table border=\"1\" class=\"dataframe\">\n",
       "  <thead>\n",
       "    <tr style=\"text-align: right;\">\n",
       "      <th></th>\n",
       "      <th>Flow Duration</th>\n",
       "      <th>Total Fwd Packets</th>\n",
       "      <th>Fwd Packet Length Mean</th>\n",
       "      <th>Bwd Packet Length Mean</th>\n",
       "      <th>Flow IAT Mean</th>\n",
       "      <th>SYN Flag Count</th>\n",
       "      <th>FIN Flag Count</th>\n",
       "      <th>Active Mean</th>\n",
       "      <th>Idle Mean</th>\n",
       "      <th>Label</th>\n",
       "    </tr>\n",
       "  </thead>\n",
       "  <tbody>\n",
       "    <tr>\n",
       "      <th>0</th>\n",
       "      <td>0.267051</td>\n",
       "      <td>0.000005</td>\n",
       "      <td>0.006230</td>\n",
       "      <td>0.000000</td>\n",
       "      <td>0.266667</td>\n",
       "      <td>1.0</td>\n",
       "      <td>0.0</td>\n",
       "      <td>0.000000</td>\n",
       "      <td>0.0000</td>\n",
       "      <td>0</td>\n",
       "    </tr>\n",
       "    <tr>\n",
       "      <th>1</th>\n",
       "      <td>0.000551</td>\n",
       "      <td>0.000014</td>\n",
       "      <td>0.007408</td>\n",
       "      <td>0.018447</td>\n",
       "      <td>0.000079</td>\n",
       "      <td>0.0</td>\n",
       "      <td>0.0</td>\n",
       "      <td>0.000000</td>\n",
       "      <td>0.0000</td>\n",
       "      <td>0</td>\n",
       "    </tr>\n",
       "    <tr>\n",
       "      <th>2</th>\n",
       "      <td>0.000500</td>\n",
       "      <td>0.000000</td>\n",
       "      <td>0.009429</td>\n",
       "      <td>0.019309</td>\n",
       "      <td>0.000500</td>\n",
       "      <td>0.0</td>\n",
       "      <td>0.0</td>\n",
       "      <td>0.000000</td>\n",
       "      <td>0.0000</td>\n",
       "      <td>0</td>\n",
       "    </tr>\n",
       "    <tr>\n",
       "      <th>3</th>\n",
       "      <td>0.000397</td>\n",
       "      <td>0.000000</td>\n",
       "      <td>0.007408</td>\n",
       "      <td>0.036721</td>\n",
       "      <td>0.000397</td>\n",
       "      <td>0.0</td>\n",
       "      <td>0.0</td>\n",
       "      <td>0.000000</td>\n",
       "      <td>0.0000</td>\n",
       "      <td>0</td>\n",
       "    </tr>\n",
       "    <tr>\n",
       "      <th>4</th>\n",
       "      <td>0.827747</td>\n",
       "      <td>0.000023</td>\n",
       "      <td>0.008980</td>\n",
       "      <td>0.285567</td>\n",
       "      <td>0.068979</td>\n",
       "      <td>0.0</td>\n",
       "      <td>1.0</td>\n",
       "      <td>0.000127</td>\n",
       "      <td>0.8275</td>\n",
       "      <td>4</td>\n",
       "    </tr>\n",
       "    <tr>\n",
       "      <th>...</th>\n",
       "      <td>...</td>\n",
       "      <td>...</td>\n",
       "      <td>...</td>\n",
       "      <td>...</td>\n",
       "      <td>...</td>\n",
       "      <td>...</td>\n",
       "      <td>...</td>\n",
       "      <td>...</td>\n",
       "      <td>...</td>\n",
       "      <td>...</td>\n",
       "    </tr>\n",
       "    <tr>\n",
       "      <th>1499991</th>\n",
       "      <td>0.000199</td>\n",
       "      <td>0.000005</td>\n",
       "      <td>0.006566</td>\n",
       "      <td>0.009482</td>\n",
       "      <td>0.000067</td>\n",
       "      <td>0.0</td>\n",
       "      <td>0.0</td>\n",
       "      <td>0.000000</td>\n",
       "      <td>0.0000</td>\n",
       "      <td>0</td>\n",
       "    </tr>\n",
       "    <tr>\n",
       "      <th>1499993</th>\n",
       "      <td>0.003346</td>\n",
       "      <td>0.000009</td>\n",
       "      <td>0.031990</td>\n",
       "      <td>0.000690</td>\n",
       "      <td>0.000669</td>\n",
       "      <td>0.0</td>\n",
       "      <td>0.0</td>\n",
       "      <td>0.000000</td>\n",
       "      <td>0.0000</td>\n",
       "      <td>0</td>\n",
       "    </tr>\n",
       "    <tr>\n",
       "      <th>1499994</th>\n",
       "      <td>0.006264</td>\n",
       "      <td>0.000037</td>\n",
       "      <td>0.013152</td>\n",
       "      <td>0.061907</td>\n",
       "      <td>0.000330</td>\n",
       "      <td>0.0</td>\n",
       "      <td>0.0</td>\n",
       "      <td>0.000000</td>\n",
       "      <td>0.0000</td>\n",
       "      <td>0</td>\n",
       "    </tr>\n",
       "    <tr>\n",
       "      <th>1499998</th>\n",
       "      <td>0.000259</td>\n",
       "      <td>0.000000</td>\n",
       "      <td>0.008924</td>\n",
       "      <td>0.024308</td>\n",
       "      <td>0.000259</td>\n",
       "      <td>0.0</td>\n",
       "      <td>0.0</td>\n",
       "      <td>0.000000</td>\n",
       "      <td>0.0000</td>\n",
       "      <td>0</td>\n",
       "    </tr>\n",
       "    <tr>\n",
       "      <th>1499999</th>\n",
       "      <td>0.000259</td>\n",
       "      <td>0.000005</td>\n",
       "      <td>0.006398</td>\n",
       "      <td>0.017757</td>\n",
       "      <td>0.000086</td>\n",
       "      <td>0.0</td>\n",
       "      <td>0.0</td>\n",
       "      <td>0.000000</td>\n",
       "      <td>0.0000</td>\n",
       "      <td>0</td>\n",
       "    </tr>\n",
       "  </tbody>\n",
       "</table>\n",
       "<p>989588 rows × 10 columns</p>\n",
       "</div>"
      ],
      "text/plain": [
       "         Flow Duration  Total Fwd Packets  Fwd Packet Length Mean  \\\n",
       "0             0.267051           0.000005                0.006230   \n",
       "1             0.000551           0.000014                0.007408   \n",
       "2             0.000500           0.000000                0.009429   \n",
       "3             0.000397           0.000000                0.007408   \n",
       "4             0.827747           0.000023                0.008980   \n",
       "...                ...                ...                     ...   \n",
       "1499991       0.000199           0.000005                0.006566   \n",
       "1499993       0.003346           0.000009                0.031990   \n",
       "1499994       0.006264           0.000037                0.013152   \n",
       "1499998       0.000259           0.000000                0.008924   \n",
       "1499999       0.000259           0.000005                0.006398   \n",
       "\n",
       "         Bwd Packet Length Mean  Flow IAT Mean  SYN Flag Count  \\\n",
       "0                      0.000000       0.266667             1.0   \n",
       "1                      0.018447       0.000079             0.0   \n",
       "2                      0.019309       0.000500             0.0   \n",
       "3                      0.036721       0.000397             0.0   \n",
       "4                      0.285567       0.068979             0.0   \n",
       "...                         ...            ...             ...   \n",
       "1499991                0.009482       0.000067             0.0   \n",
       "1499993                0.000690       0.000669             0.0   \n",
       "1499994                0.061907       0.000330             0.0   \n",
       "1499998                0.024308       0.000259             0.0   \n",
       "1499999                0.017757       0.000086             0.0   \n",
       "\n",
       "         FIN Flag Count  Active Mean  Idle Mean  Label  \n",
       "0                   0.0     0.000000     0.0000      0  \n",
       "1                   0.0     0.000000     0.0000      0  \n",
       "2                   0.0     0.000000     0.0000      0  \n",
       "3                   0.0     0.000000     0.0000      0  \n",
       "4                   1.0     0.000127     0.8275      4  \n",
       "...                 ...          ...        ...    ...  \n",
       "1499991             0.0     0.000000     0.0000      0  \n",
       "1499993             0.0     0.000000     0.0000      0  \n",
       "1499994             0.0     0.000000     0.0000      0  \n",
       "1499998             0.0     0.000000     0.0000      0  \n",
       "1499999             0.0     0.000000     0.0000      0  \n",
       "\n",
       "[989588 rows x 10 columns]"
      ]
     },
     "execution_count": 15,
     "metadata": {},
     "output_type": "execute_result"
    }
   ],
   "source": [
    "data    ### This shows  data after applying label encoding to the \"Label\" column, converting categorical values into numeric labels."
   ]
  },
  {
   "cell_type": "markdown",
   "metadata": {},
   "source": [
    "**Now prepare our data for the model by splitting it to train ,validation and test!!!**\n"
   ]
  },
  {
   "cell_type": "code",
   "execution_count": 17,
   "metadata": {
    "ExecuteTime": {
     "end_time": "2024-12-17T23:01:43.644237Z",
     "start_time": "2024-12-17T23:01:43.232357200Z"
    }
   },
   "outputs": [],
   "source": [
    "\"\"\"\n",
    "This code splits the dataset into features (X) and labels (y), performs a train-validation-test split, \n",
    "and converts the data into PyTorch tensors.\n",
    "\n",
    "### Steps:\n",
    "1. *Split data into features (X) and labels (y):*\n",
    "\n",
    "2. *Train-Validation-Test Split:*\n",
    "   - Splits the dataset into training and temporary(with 30% of data reserved for validation and testing).\n",
    "   - Splits the temporary dataset into equal parts for validation and testing (50% for each).\n",
    "\n",
    "### Purpose:\n",
    "- The purpose of this code is to prepare the dataset for machine learning by separating features and labels, splitting the data into training, \n",
    "   validation, and test sets, and preparing the data for use in PyTorch models.\n",
    "\"\"\"\n",
    "##step 1\n",
    "X = data.iloc[:, :-1].values  #Extracts all columns except the last one (which is assumed to be the 'Label' column) as the feature set X.\n",
    "y = data['Label'].values    #Extracts the 'Label' column as the target variable y.\n",
    "\n",
    "##step 2\n",
    "X_train, X_temp, y_train, y_temp = train_test_split(X, y, test_size=0.3, random_state=42)   # 70% train  and 30%  in the temporary variables\n",
    "X_val, X_test, y_val, y_test = train_test_split(X_temp, y_temp, test_size=0.5,random_state=42) # this 30 % is then divided into 50% test and 50% validation\n",
    "\n",
    "\n"
   ]
  },
  {
   "cell_type": "code",
   "execution_count": 18,
   "metadata": {
    "ExecuteTime": {
     "end_time": "2024-12-17T23:01:43.672013400Z",
     "start_time": "2024-12-17T23:01:43.647740700Z"
    }
   },
   "outputs": [],
   "source": [
    "\"\"\"\n",
    "This script prepares the training, validation, and test datasets for use with a PyTorch model. It performs the following tasks:\n",
    "\n",
    "1. Selects the appropriate device Gpu if availble  else cpu for model training.\n",
    "2. Converts the input features (X_train, X_val, X_test) and the target labels (y_train, y_val, y_test) into PyTorch tensors of \n",
    "    the appropriate data types and moves them to the selected device.\n",
    "3. Creates DataLoader instances for the training, validation, and test datasets. The DataLoader helps in batching, shuffling, and loading the data \n",
    "      during training.\n",
    "- The target labels (y_train, y_val, y_test) are assumed to be for a classification task and are therefore converted to long integer tensors.\n",
    "\"\"\"\n",
    "device = torch.device('cuda' if torch.cuda.is_available() else 'cpu')    \n",
    "X_train = torch.tensor(X_train, dtype=torch.float32).to(device)\n",
    "X_val = torch.tensor(X_val, dtype=torch.float32).to(device)\n",
    "X_test = torch.tensor(X_test, dtype=torch.float32).to(device)\n",
    "y_train = torch.tensor(y_train, dtype=torch.long).to(device)  # Use long for classification\n",
    "y_val = torch.tensor(y_val, dtype=torch.long).to(device)\n",
    "y_test = torch.tensor(y_test, dtype=torch.long).to(device)\n",
    "\n",
    "# Create DataLoaders\n",
    "batch_size = 64\n",
    "train_loader = DataLoader(TensorDataset(X_train, y_train), batch_size=batch_size, shuffle=True)\n",
    "val_loader = DataLoader(TensorDataset(X_val, y_val), batch_size=batch_size, shuffle=False)\n",
    "test_loader = DataLoader(TensorDataset(X_test, y_test), batch_size=batch_size, shuffle=False)"
   ]
  },
  {
   "cell_type": "markdown",
   "metadata": {},
   "source": [
    "**Finally , biuld our model !!!**"
   ]
  },
  {
   "cell_type": "code",
   "execution_count": 20,
   "metadata": {
    "ExecuteTime": {
     "end_time": "2024-12-17T23:01:43.690376400Z",
     "start_time": "2024-12-17T23:01:43.676594100Z"
    }
   },
   "outputs": [],
   "source": [
    "class LSTMModel(nn.Module):\n",
    "    \"\"\"\n",
    "    A simple LSTM model for sequence classification.\n",
    "    Args:\n",
    "        input_size : The number of features in the input sequence.\n",
    "        hidden_size: The number of features in the hidden state of the LSTM.\n",
    "        num_classes: The number of output classes (for classification).\n",
    "        num_layers : The number of LSTM layers (default is 2).\n",
    "    Attributes:\n",
    "        lstm (nn.LSTM): The LSTM layer for sequence processing.\n",
    "        fc (nn.Linear): The fully connected layer for output classification.\n",
    "    Methods:\n",
    "        forward(x): Defines the forward pass of the model.\n",
    "    \"\"\"    \n",
    "    def __init__(self, input_size, hidden_size, num_classes, num_layers=2):\n",
    "        super(LSTMModel, self).__init__()\n",
    "        # LSTM layer\n",
    "        self.lstm = nn.LSTM(input_size, hidden_size, num_layers, batch_first=True)\n",
    "        #  fully connected layer\n",
    "        self.fc = nn.Linear(hidden_size, num_classes)\n",
    "    def forward(self, x):\n",
    "        \"\"\"\n",
    "        Forward pass through the LSTM model.\n",
    "        Args:\n",
    "            x : Input tensor of shape (batch_size, seq_length, input_size).\n",
    "        Returns:\n",
    "            Tensor: Output tensor of shape (batch_size, num_classes).\n",
    "        \"\"\"\n",
    "        # Add a dummy time dimension to input tensor. Shape becomes (batch_size, 1, seq_length, input_size)\n",
    "        x = x.unsqueeze(1)\n",
    "        # Pass input through LSTM layer. Output is a tuple (out, (h_n, c_n)), we discard (h_n, c_n) by using _\n",
    "        out, _ = self.lstm(x)\n",
    "        # Pass the output from the last time step (out[:, -1, :]) through the fully connected layer to get final predictions\n",
    "        out = self.fc(out[:, -1, :])\n",
    "        return out\n",
    "\n",
    "# Instantiate the model\n",
    "input_size = X_train.shape[1]  # The number of features in the input data\n",
    "hidden_size = 64  # Number of hidden units in the LSTM layer\n",
    "num_classes = len(np.unique(y))  # Number of unique labels (classes) in the dataset\n",
    "\n",
    "# Create the model instance and move it to the appropriate device \n",
    "model = LSTMModel(input_size, hidden_size, num_classes).to(device)"
   ]
  },
  {
   "cell_type": "code",
   "execution_count": 21,
   "metadata": {
    "ExecuteTime": {
     "end_time": "2024-12-17T23:01:43.699274900Z",
     "start_time": "2024-12-17T23:01:43.691374600Z"
    }
   },
   "outputs": [
    {
     "data": {
      "text/plain": [
       "\"\\nPurpose:\\n    Adam is an optimizer that updates the model's parameters to make better predictions\\n    over time. It's like a smart learning algorithm that figures out how to adjust\\n    each part of the model.\\n\\nHow it works:\\n    1. Looks at the current performance (loss) of the model\\n    2. Calculates how to change each parameter to reduce the loss\\n    3. Keeps track of past changes to make smarter updates\\n    4. Makes bigger updates for parameters that need more change\\n    5. Makes smaller updates for parameters that are already working well\\n\""
      ]
     },
     "execution_count": 21,
     "metadata": {},
     "output_type": "execute_result"
    }
   ],
   "source": [
    "# Loss Function\n",
    "\"\"\"\n",
    "Purpose:\n",
    "    CrossEntropyLoss measures how different the model's predictions are from the true labels\n",
    "    in classification tasks. It tells us how well our model is performing.\n",
    "\n",
    "How it works:\n",
    "    1. Takes the raw outputs from your model (called logits)\n",
    "    2. Converts these outputs into probabilities using softmax\n",
    "    3. Calculates how far these probabilities are from the correct answers\n",
    "    4. Returns a single number where lower means better predictions\n",
    "\"\"\"\n",
    "criterion = nn.CrossEntropyLoss() ## multiclass classification\n",
    "\n",
    "\n",
    "# Optimizer\n",
    "\"\"\"\n",
    "Purpose:\n",
    "    Adam is an optimizer that updates the model's parameters to make better predictions\n",
    "    over time. It's like a smart learning algorithm that figures out how to adjust\n",
    "    each part of the model.\n",
    "\n",
    "How it works:\n",
    "    1. Looks at the current performance (loss) of the model\n",
    "    2. Calculates how to change each parameter to reduce the loss\n",
    "    3. Keeps track of past changes to make smarter updates\n",
    "    4. Makes bigger updates for parameters that need more change\n",
    "    5. Makes smaller updates for parameters that are already working well\n",
    "\"\"\"\n",
    "\n",
    "optimizer = torch.optim.Adam(model.parameters(), lr=0.001)\n"
   ]
  },
  {
   "cell_type": "code",
   "execution_count": 22,
   "metadata": {
    "ExecuteTime": {
     "end_time": "2024-12-17T23:17:10.798324400Z",
     "start_time": "2024-12-17T23:01:43.704284900Z"
    }
   },
   "outputs": [
    {
     "name": "stderr",
     "output_type": "stream",
     "text": [
      "Training Epochs:  10%|█         | 1/10 [00:52<07:56, 52.90s/it]"
     ]
    },
    {
     "name": "stdout",
     "output_type": "stream",
     "text": [
      "Epoch 1/10, Train Loss: 0.2650, Val Loss: 0.1605, Val Accuracy: 0.9585\n"
     ]
    },
    {
     "name": "stderr",
     "output_type": "stream",
     "text": [
      "Training Epochs:  20%|██        | 2/10 [01:46<07:07, 53.38s/it]"
     ]
    },
    {
     "name": "stdout",
     "output_type": "stream",
     "text": [
      "Epoch 2/10, Train Loss: 0.1439, Val Loss: 0.1178, Val Accuracy: 0.9645\n"
     ]
    },
    {
     "name": "stderr",
     "output_type": "stream",
     "text": [
      "Training Epochs:  30%|███       | 3/10 [02:39<06:10, 52.93s/it]"
     ]
    },
    {
     "name": "stdout",
     "output_type": "stream",
     "text": [
      "Epoch 3/10, Train Loss: 0.1029, Val Loss: 0.0872, Val Accuracy: 0.9724\n"
     ]
    },
    {
     "name": "stderr",
     "output_type": "stream",
     "text": [
      "Training Epochs:  40%|████      | 4/10 [03:30<05:13, 52.30s/it]"
     ]
    },
    {
     "name": "stdout",
     "output_type": "stream",
     "text": [
      "Epoch 4/10, Train Loss: 0.0854, Val Loss: 0.0784, Val Accuracy: 0.9749\n"
     ]
    },
    {
     "name": "stderr",
     "output_type": "stream",
     "text": [
      "Training Epochs:  50%|█████     | 5/10 [04:21<04:19, 51.89s/it]"
     ]
    },
    {
     "name": "stdout",
     "output_type": "stream",
     "text": [
      "Epoch 5/10, Train Loss: 0.0766, Val Loss: 0.0718, Val Accuracy: 0.9791\n"
     ]
    },
    {
     "name": "stderr",
     "output_type": "stream",
     "text": [
      "Training Epochs:  60%|██████    | 6/10 [05:13<03:27, 51.76s/it]"
     ]
    },
    {
     "name": "stdout",
     "output_type": "stream",
     "text": [
      "Epoch 6/10, Train Loss: 0.0695, Val Loss: 0.0623, Val Accuracy: 0.9826\n"
     ]
    },
    {
     "name": "stderr",
     "output_type": "stream",
     "text": [
      "Training Epochs:  70%|███████   | 7/10 [06:04<02:35, 51.82s/it]"
     ]
    },
    {
     "name": "stdout",
     "output_type": "stream",
     "text": [
      "Epoch 7/10, Train Loss: 0.0632, Val Loss: 0.0566, Val Accuracy: 0.9835\n"
     ]
    },
    {
     "name": "stderr",
     "output_type": "stream",
     "text": [
      "Training Epochs:  80%|████████  | 8/10 [06:40<01:33, 46.71s/it]"
     ]
    },
    {
     "name": "stdout",
     "output_type": "stream",
     "text": [
      "Epoch 8/10, Train Loss: 0.0586, Val Loss: 0.0571, Val Accuracy: 0.9833\n"
     ]
    },
    {
     "name": "stderr",
     "output_type": "stream",
     "text": [
      "Training Epochs:  90%|█████████ | 9/10 [07:17<00:43, 43.54s/it]"
     ]
    },
    {
     "name": "stdout",
     "output_type": "stream",
     "text": [
      "Epoch 9/10, Train Loss: 0.0550, Val Loss: 0.0532, Val Accuracy: 0.9838\n"
     ]
    },
    {
     "name": "stderr",
     "output_type": "stream",
     "text": [
      "Training Epochs: 100%|██████████| 10/10 [07:55<00:00, 47.52s/it]"
     ]
    },
    {
     "name": "stdout",
     "output_type": "stream",
     "text": [
      "Epoch 10/10, Train Loss: 0.0527, Val Loss: 0.0486, Val Accuracy: 0.9851\n"
     ]
    },
    {
     "name": "stderr",
     "output_type": "stream",
     "text": [
      "\n"
     ]
    }
   ],
   "source": [
    "# Training parameters\n",
    "num_epochs = 10  # Set the number of epochs for training which is  number of times to iterate through the entire training dataset.\n",
    "patience = 5  # Set the patience for early stopping (number of epochs to wait before stopping early if there is no improvement in validation loss.)\n",
    "best_val_loss = float('inf')  # Initialize the best validation loss to infinity which will store best validation loss observed so far\n",
    "epochs_no_improve = 0  # Initialize the counter for epochs without improvement in validation loss\n",
    "\n",
    "\n",
    "# Training Loop\n",
    "\"\"\"\n",
    "This  trains our  model using a training loop.\n",
    "It sets up training parameters, computes the loss, performs forward and backward passes, \n",
    "and updates the model's weights based on the gradients.\n",
    "\n",
    "Parameters:\n",
    "- model: The  model being trained.\n",
    "- train_loader: A DataLoader that provides the training data in batches.\n",
    "- optimizer: The optimizer used to update the model parameters .\n",
    "- criterion: The loss function used to compute the error between predicted outputs and true labels.\n",
    "* This part trains the model and updates its weights.\n",
    "\"\"\"\n",
    "for epoch in tqdm(range(num_epochs), desc=\"Training Epochs\"):  # Loop over the number of epochs with a progress bar\n",
    "    model.train()  # Set the model to training mode (enables dropout, batch normalization, etc.)\n",
    "    train_loss = 0  # Initialize the variable to accumulate the training loss for the epoch\n",
    "    # Loop through the training data loader in batches\n",
    "    for X_batch, y_batch in train_loader:\n",
    "        optimizer.zero_grad()  # Clear the previous gradients to prevent accumulation   ### gradient exploding تمنع ##\n",
    "        outputs = model(X_batch)  # Pass the current batch of inputs (X_batch) through the model to get predictions   ##forward pass بتعمل##\n",
    "        loss = criterion(outputs, y_batch)  # Compute the loss between predicted outputs and true labels (y_batch)\n",
    "        train_loss += loss.item()  # Accumulate the loss for the current batch\n",
    "        loss.backward()  # Backpropagate the gradients from the loss     ## gradients تحسب  ##\n",
    "        optimizer.step()  # Update the model parameters based on the gradients\n",
    "    train_loss /= len(train_loader)  # Calculate the average training loss for the epoch\n",
    "\n",
    "    #validation phase\n",
    "    \"\"\"\n",
    "    This code performs model evaluation on the validation set. \n",
    "    It computes the validation loss, accuracy, and implements early stopping to prevent overfitting.\n",
    "\n",
    "    Key steps:\n",
    "    1. Evaluates the model using the validation dataset.\n",
    "    2. Calculates validation loss and accuracy.\n",
    "    3. Implements early stopping based on validation loss.\n",
    "    \"\"\"\n",
    "    # Set the model to evaluation mode (disables dropout, batchnorm, etc.)\n",
    "    model.eval()\n",
    "\n",
    "     # Initialize variables to track validation loss, predictions, and true labels\n",
    "    val_loss = 0\n",
    "    val_preds, val_labels = [], []\n",
    "\n",
    "    # Disable gradient computation to save memory during validation\n",
    "    with torch.no_grad():\n",
    "        # Iterate over batches of validation data\n",
    "        for X_batch, y_batch in val_loader:\n",
    "             # Get the model's output for the current batch\n",
    "             outputs = model(X_batch)\n",
    "             # Compute the loss between the predictions and true labels\n",
    "             loss = criterion(outputs, y_batch)\n",
    "             # Accumulate the validation loss\n",
    "             val_loss += loss.item()\n",
    "             # Get the predicted class labels by taking the argmax across the output logits\n",
    "             val_preds.extend(torch.argmax(outputs, dim=1).cpu().numpy())\n",
    "             # Store the true labels\n",
    "             val_labels.extend(y_batch.cpu().numpy())\n",
    "\n",
    "     # Calculate the average validation loss\n",
    "    val_loss /= len(val_loader)\n",
    "     # Calculate validation accuracy by comparing predictions to true labels\n",
    "    val_accuracy = accuracy_score(val_labels, val_preds)\n",
    "     # Print out the epoch, training loss, validation loss, and validation accuracy\n",
    "    print(f\"Epoch {epoch+1}/{num_epochs}, Train Loss: {train_loss:.4f}, Val Loss: {val_loss:.4f}, Val Accuracy: {val_accuracy:.4f}\")\n",
    "     # Early stopping logic\n",
    "    if val_loss < best_val_loss:\n",
    "         # Update the best validation loss and reset the counter\n",
    "         best_val_loss = val_loss\n",
    "         epochs_no_improve = 0\n",
    "    else:\n",
    "         # Increment the counter if validation loss has not improved\n",
    "         epochs_no_improve += 1\n",
    "\n",
    "     # If the validation loss hasn't improved for 'patience' epochs, stop early\n",
    "    if epochs_no_improve >= patience:\n",
    "         print(f\"Early stopping at epoch {epoch+1}\")\n",
    "         break"
   ]
  },
  {
   "cell_type": "code",
   "execution_count": 23,
   "metadata": {
    "ExecuteTime": {
     "end_time": "2024-12-17T23:17:16.580267200Z",
     "start_time": "2024-12-17T23:17:10.811378Z"
    }
   },
   "outputs": [
    {
     "name": "stdout",
     "output_type": "stream",
     "text": [
      "Test Accuracy: 0.9849\n",
      "              precision    recall  f1-score   support\n",
      "\n",
      "           0       0.99      1.00      0.99    122274\n",
      "           1       0.00      0.00      0.00       129\n",
      "           2       0.98      0.98      0.98     10165\n",
      "           3       0.94      0.93      0.94       798\n",
      "           4       1.00      0.93      0.96     13341\n",
      "           5       0.89      0.84      0.87       400\n",
      "           6       0.94      0.90      0.92       417\n",
      "           7       0.99      0.92      0.95       331\n",
      "           9       0.00      0.00      0.00         2\n",
      "          10       1.00      0.10      0.18       168\n",
      "          11       0.98      0.88      0.93       241\n",
      "          12       1.00      0.03      0.06       120\n",
      "          13       0.00      0.00      0.00         1\n",
      "          14       1.00      0.04      0.07        52\n",
      "\n",
      "    accuracy                           0.98    148439\n",
      "   macro avg       0.76      0.54      0.56    148439\n",
      "weighted avg       0.98      0.98      0.98    148439\n",
      "\n"
     ]
    },
    {
     "name": "stderr",
     "output_type": "stream",
     "text": [
      "C:\\Users\\fayrouz\\anaconda3\\Lib\\site-packages\\sklearn\\metrics\\_classification.py:1509: UndefinedMetricWarning: Precision is ill-defined and being set to 0.0 in labels with no predicted samples. Use `zero_division` parameter to control this behavior.\n",
      "  _warn_prf(average, modifier, f\"{metric.capitalize()} is\", len(result))\n",
      "C:\\Users\\fayrouz\\anaconda3\\Lib\\site-packages\\sklearn\\metrics\\_classification.py:1509: UndefinedMetricWarning: Precision is ill-defined and being set to 0.0 in labels with no predicted samples. Use `zero_division` parameter to control this behavior.\n",
      "  _warn_prf(average, modifier, f\"{metric.capitalize()} is\", len(result))\n",
      "C:\\Users\\fayrouz\\anaconda3\\Lib\\site-packages\\sklearn\\metrics\\_classification.py:1509: UndefinedMetricWarning: Precision is ill-defined and being set to 0.0 in labels with no predicted samples. Use `zero_division` parameter to control this behavior.\n",
      "  _warn_prf(average, modifier, f\"{metric.capitalize()} is\", len(result))\n"
     ]
    }
   ],
   "source": [
    "\"\"\"\n",
    "Performs the model evaluation on the test dataset.\n",
    "\n",
    "This phase evaluates the trained model on the test dataset to assess its performance \n",
    "in terms of accuracy and other classification metrics. It also generates a detailed \n",
    "classification report containing precision, recall, f1-score, and support for each class.\n",
    "\n",
    "Parameters:\n",
    "- model: The trained model to be evaluated.\n",
    "- test_loader: DataLoader that provides the test data in batches.\n",
    "\n",
    "\n",
    "- purpose: This part prints the accuracy and classification report for the test dataset.\n",
    "\"\"\"\n",
    "# Test phase\n",
    "model.eval()  # Set the model to evaluation mode (disables dropout, batch normalization, etc.)\n",
    "test_preds, test_labels = [], []  # Initialize empty lists to store predicted labels (test_preds) and true labels (test_labels)\n",
    "# Disable gradient calculation during evaluation to save memory and computation\n",
    "with torch.no_grad():\n",
    "    # Loop through the test data loader in batches\n",
    "    for X_batch, y_batch in test_loader:\n",
    "        outputs = model(X_batch)  # Get model predictions for the current batch of test data\n",
    "        # Extend the test_preds list with the predicted class labels (argmax of the output)\n",
    "        test_preds.extend(torch.argmax(outputs, dim=1).cpu().numpy())\n",
    "        # Extend the test_labels list with the true labels from the current batch\n",
    "        test_labels.extend(y_batch.cpu().numpy())\n",
    "\n",
    "# Calculate the accuracy of the model on the test data by comparing predicted labels and true labels\n",
    "test_accuracy = accuracy_score(test_labels, test_preds)\n",
    "# Print the overall test accuracy\n",
    "print(f\"Test Accuracy: {test_accuracy:.4f}\")\n",
    "# Print a detailed classification report, which includes precision, recall, f1-score, and support for each class\n",
    "print(classification_report(test_labels, test_preds))\n"
   ]
  }
 ],
 "metadata": {
  "kernelspec": {
   "display_name": "Python 3 (ipykernel)",
   "language": "python",
   "name": "python3"
  },
  "language_info": {
   "codemirror_mode": {
    "name": "ipython",
    "version": 3
   },
   "file_extension": ".py",
   "mimetype": "text/x-python",
   "name": "python",
   "nbconvert_exporter": "python",
   "pygments_lexer": "ipython3",
   "version": "3.12.4"
  }
 },
 "nbformat": 4,
 "nbformat_minor": 4
}
